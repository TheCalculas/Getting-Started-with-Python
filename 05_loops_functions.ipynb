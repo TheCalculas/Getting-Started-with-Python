{
 "cells": [
  {
   "cell_type": "markdown",
   "metadata": {},
   "source": [
    "While Statement"
   ]
  },
  {
   "cell_type": "code",
   "execution_count": 2,
   "metadata": {},
   "outputs": [
    {
     "name": "stdout",
     "output_type": "stream",
     "text": [
      "1 2 3 4 \n",
      "end\n"
     ]
    }
   ],
   "source": [
    "a = int(input())\n",
    "b = 1\n",
    "while b<=a:\n",
    "    print(b, end=' ')\n",
    "    b+=1\n",
    "print()\n",
    "print(\"end\")"
   ]
  },
  {
   "cell_type": "markdown",
   "metadata": {},
   "source": [
    "For loop : for i in range(start, end-1, step):"
   ]
  },
  {
   "cell_type": "code",
   "execution_count": 6,
   "metadata": {},
   "outputs": [
    {
     "name": "stdout",
     "output_type": "stream",
     "text": [
      "1 2 3 4 5 6 7 8 9 \n",
      "0 1 2 3 4 5 6 7 8 9 \n",
      "1 3 5 7 9 "
     ]
    }
   ],
   "source": [
    "# for loop in python\n",
    "\n",
    "for i in range (1, 10):\n",
    "    print(i, end=\" \")\n",
    "\n",
    "print()\n",
    "# it prints from 1 to n-1 not n !! remember this \n",
    "# by default range starts from zero \n",
    "for i in range (10): \n",
    "    print(i, end=\" \")\n",
    "\n",
    "print()\n",
    "\n",
    "\n",
    "for i in range (1, 10, 2):\n",
    "    print(i, end=\" \")"
   ]
  },
  {
   "cell_type": "code",
   "execution_count": 9,
   "metadata": {},
   "outputs": [
    {
     "name": "stdout",
     "output_type": "stream",
     "text": [
      "The number is not prime\n"
     ]
    }
   ],
   "source": [
    "# Coding prime number\n",
    "a = int(input())\n",
    "flag = True\n",
    "for i in range(2, a):\n",
    "    if a%i==0:\n",
    "        flag = False\n",
    "        break\n",
    "if(flag==True):\n",
    "    print(\"The number is prime\")\n",
    "else :\n",
    "    print(\"The number is not prime\")"
   ]
  },
  {
   "cell_type": "code",
   "execution_count": 11,
   "metadata": {},
   "outputs": [
    {
     "name": "stdout",
     "output_type": "stream",
     "text": [
      "t\n",
      "h\n",
      "i\n",
      "s\n",
      " \n",
      "i\n",
      "s\n",
      " \n",
      "a\n",
      " \n",
      "s\n",
      "t\n",
      "r\n",
      "i\n",
      "n\n",
      "g\n",
      "\n",
      "1\n",
      "2\n",
      "3\n"
     ]
    }
   ],
   "source": [
    "# fast iterations\n",
    "s = \"this is a string\"\n",
    "for a in s:\n",
    "    print(a)\n",
    "print()\n",
    "r = (1, 2, 3)\n",
    "for a in r:\n",
    "    print(a)"
   ]
  },
  {
   "cell_type": "code",
   "execution_count": 12,
   "metadata": {},
   "outputs": [
    {
     "name": "stdout",
     "output_type": "stream",
     "text": [
      "3\n"
     ]
    }
   ],
   "source": [
    "# Functions:\n",
    "def sum (a, b):\n",
    "    return a+b\n",
    "print(sum(1, 2))"
   ]
  },
  {
   "cell_type": "code",
   "execution_count": 13,
   "metadata": {},
   "outputs": [
    {
     "name": "stdout",
     "output_type": "stream",
     "text": [
      "81\n"
     ]
    }
   ],
   "source": [
    "def powers(a, b=2):\n",
    "    return a**b\n",
    "print(powers(3, 4))"
   ]
  },
  {
   "cell_type": "code",
   "execution_count": 15,
   "metadata": {},
   "outputs": [
    {
     "name": "stdout",
     "output_type": "stream",
     "text": [
      "9\n",
      "9\n",
      "10\n",
      "9\n",
      "12\n"
     ]
    }
   ],
   "source": [
    "def sums(a=2, b=3, c=4):\n",
    "    return a+ b+ c\n",
    "print(sums(4, 3, 2))\n",
    "print(sums(2, 3))\n",
    "print(sums(3))\n",
    "print(sums())\n",
    "print (sums(b = 6))"
   ]
  },
  {
   "cell_type": "code",
   "execution_count": 17,
   "metadata": {},
   "outputs": [
    {
     "name": "stdout",
     "output_type": "stream",
     "text": [
      "75\n"
     ]
    }
   ],
   "source": [
    "# if you pass more arguments \n",
    "# more is a type of tuple \n",
    "\n",
    "def sums (a, b, *more):\n",
    "    sumvar = a+b\n",
    "    for i in more: # this is an example of a fast iterator\n",
    "        sumvar += i\n",
    "    return sumvar\n",
    "\n",
    "print(sums(1, 2, 3, 54, 7, 8))\n"
   ]
  },
  {
   "cell_type": "code",
   "execution_count": 18,
   "metadata": {},
   "outputs": [
    {
     "name": "stdout",
     "output_type": "stream",
     "text": [
      "3 -1\n"
     ]
    }
   ],
   "source": [
    "# if you want to return more than one value\n",
    "\n",
    "def sums(a, b):\n",
    "    return a+b, a-b\n",
    "\n",
    "c, d = sums(1,2)\n",
    "print(c,d)"
   ]
  }
 ],
 "metadata": {
  "kernelspec": {
   "display_name": "Python 3.10.5 64-bit",
   "language": "python",
   "name": "python3"
  },
  "language_info": {
   "codemirror_mode": {
    "name": "ipython",
    "version": 3
   },
   "file_extension": ".py",
   "mimetype": "text/x-python",
   "name": "python",
   "nbconvert_exporter": "python",
   "pygments_lexer": "ipython3",
   "version": "3.10.5"
  },
  "orig_nbformat": 4,
  "vscode": {
   "interpreter": {
    "hash": "5666a3d1bc91ffbff1466abe7bdd0fa91f5e0a396fdd17d39b1c2038c08c1d53"
   }
  }
 },
 "nbformat": 4,
 "nbformat_minor": 2
}
