{
 "cells": [
  {
   "cell_type": "markdown",
   "metadata": {},
   "source": [
    "Bubble Sort"
   ]
  },
  {
   "cell_type": "code",
   "execution_count": 6,
   "metadata": {},
   "outputs": [
    {
     "name": "stdout",
     "output_type": "stream",
     "text": [
      "[1, 2, 3, 4, 5, 6]\n"
     ]
    }
   ],
   "source": [
    "# how to take the input \n",
    "a = [ int(x) for x in input().strip().split(\" \")]\n",
    "\n",
    "n = len(a)\n",
    "\n",
    "# Binary search algo\n",
    "for i in range (n-1):\n",
    "    for j in range (n-1-i):\n",
    "        if a[j]>a[j+1]:\n",
    "            t = a[j]\n",
    "            a[j] = a[j+1]\n",
    "            a[j+1] = t\n",
    "\n",
    "print(a)"
   ]
  },
  {
   "cell_type": "markdown",
   "metadata": {},
   "source": [
    "Selection Sort"
   ]
  },
  {
   "cell_type": "code",
   "execution_count": 7,
   "metadata": {},
   "outputs": [
    {
     "name": "stdout",
     "output_type": "stream",
     "text": [
      "[1, 2, 3, 4, 4, 5]\n"
     ]
    }
   ],
   "source": [
    "def select_sort(a):\n",
    "    l = len(a)\n",
    "    for i in range (l):\n",
    "        for j in range (i+1, l):\n",
    "            if a[i] > a[j]:\n",
    "                t = a[j]\n",
    "                a[j] = a[i]\n",
    "                a[i] = t\n",
    "\n",
    "a = [ int(x) for x in input().strip().split(\" \")]\n",
    "select_sort(a)\n",
    "print(a)\n"
   ]
  }
 ],
 "metadata": {
  "kernelspec": {
   "display_name": "Python 3.10.5 64-bit",
   "language": "python",
   "name": "python3"
  },
  "language_info": {
   "codemirror_mode": {
    "name": "ipython",
    "version": 3
   },
   "file_extension": ".py",
   "mimetype": "text/x-python",
   "name": "python",
   "nbconvert_exporter": "python",
   "pygments_lexer": "ipython3",
   "version": "3.10.5"
  },
  "orig_nbformat": 4,
  "vscode": {
   "interpreter": {
    "hash": "5666a3d1bc91ffbff1466abe7bdd0fa91f5e0a396fdd17d39b1c2038c08c1d53"
   }
  }
 },
 "nbformat": 4,
 "nbformat_minor": 2
}
