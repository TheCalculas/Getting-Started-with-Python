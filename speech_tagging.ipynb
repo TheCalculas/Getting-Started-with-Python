{
  "nbformat": 4,
  "nbformat_minor": 0,
  "metadata": {
    "colab": {
      "provenance": [],
      "toc_visible": true,
      "authorship_tag": "ABX9TyMYjdgfy+7zQ1rjRCc0+ZEc",
      "include_colab_link": true
    },
    "kernelspec": {
      "name": "python3",
      "display_name": "Python 3"
    },
    "language_info": {
      "name": "python"
    }
  },
  "cells": [
    {
      "cell_type": "markdown",
      "metadata": {
        "id": "view-in-github",
        "colab_type": "text"
      },
      "source": [
        "<a href=\"https://colab.research.google.com/github/TheCalculas/Getting-Started-with-Python/blob/main/speech_tagging.ipynb\" target=\"_parent\"><img src=\"https://colab.research.google.com/assets/colab-badge.svg\" alt=\"Open In Colab\"/></a>"
      ]
    },
    {
      "cell_type": "code",
      "execution_count": 6,
      "metadata": {
        "id": "Kxw_AbLHxV51"
      },
      "outputs": [],
      "source": [
        "import spacy\n",
        "\n",
        "nlp = spacy.load('en_core_web_sm')\n",
        "\n",
        "from spacy import displacy\n",
        "\n",
        "import os"
      ]
    },
    {
      "cell_type": "code",
      "source": [
        "with open('sample_text.txt', encoding='utf8') as f:\n",
        "    doc = nlp(f.read())\n",
        "sentences = list(doc.sents)\n",
        "sentences[30]"
      ],
      "metadata": {
        "colab": {
          "base_uri": "https://localhost:8080/"
        },
        "id": "mWPsuZAzzAiC",
        "outputId": "0320c638-efac-4e8e-edce-bd059f65f30a"
      },
      "execution_count": 30,
      "outputs": [
        {
          "output_type": "execute_result",
          "data": {
            "text/plain": [
              "Since 27 June 2023, Python 3.8 is the oldest supported version of Python (albeit in the 'security support' phase), due to Python 3.7 reaching end-of-life.\n"
            ]
          },
          "metadata": {},
          "execution_count": 30
        }
      ]
    },
    {
      "cell_type": "code",
      "source": [
        "for token in sentences[20][0:30]:\n",
        "    print(token.text, token.pos_)"
      ],
      "metadata": {
        "colab": {
          "base_uri": "https://localhost:8080/"
        },
        "id": "iUsqf2nZzMqF",
        "outputId": "8e3a00fc-0a64-4e86-a16a-4206f57ef8ec"
      },
      "execution_count": 25,
      "outputs": [
        {
          "output_type": "stream",
          "name": "stdout",
          "text": [
            "Releases NOUN\n",
            "of ADP\n",
            "Python PROPN\n",
            "3 NUM\n",
            "include VERB\n",
            "the DET\n",
            "2to3 NUM\n",
            "utility NOUN\n",
            ", PUNCT\n",
            "which PRON\n",
            "automates VERB\n",
            "the DET\n",
            "translation NOUN\n",
            "of ADP\n",
            "Python PROPN\n",
            "2 NUM\n",
            "code NOUN\n",
            "to ADP\n",
            "Python PROPN\n",
            "3 NUM\n",
            ". PUNCT\n",
            "\n",
            "\n",
            " SPACE\n"
          ]
        }
      ]
    },
    {
      "cell_type": "code",
      "source": [
        "for token in sentences[20]:\n",
        "    print(f'{token.text:{15}} {token.pos_:{8}} {token.tag_:{8}} {spacy.explain(token.tag_)}')"
      ],
      "metadata": {
        "colab": {
          "base_uri": "https://localhost:8080/"
        },
        "id": "HaB0ktebzQrv",
        "outputId": "bb795c74-f245-4157-baab-442692d48bf8"
      },
      "execution_count": 20,
      "outputs": [
        {
          "output_type": "stream",
          "name": "stdout",
          "text": [
            "Releases        NOUN     NNS      noun, plural\n",
            "of              ADP      IN       conjunction, subordinating or preposition\n",
            "Python          PROPN    NNP      noun, proper singular\n",
            "3               NUM      CD       cardinal number\n",
            "include         VERB     VBP      verb, non-3rd person singular present\n",
            "the             DET      DT       determiner\n",
            "2to3            NUM      CD       cardinal number\n",
            "utility         NOUN     NN       noun, singular or mass\n",
            ",               PUNCT    ,        punctuation mark, comma\n",
            "which           PRON     WDT      wh-determiner\n",
            "automates       VERB     VBZ      verb, 3rd person singular present\n",
            "the             DET      DT       determiner\n",
            "translation     NOUN     NN       noun, singular or mass\n",
            "of              ADP      IN       conjunction, subordinating or preposition\n",
            "Python          PROPN    NNP      noun, proper singular\n",
            "2               NUM      CD       cardinal number\n",
            "code            NOUN     NN       noun, singular or mass\n",
            "to              ADP      IN       conjunction, subordinating or preposition\n",
            "Python          PROPN    NNP      noun, proper singular\n",
            "3               NUM      CD       cardinal number\n",
            ".               PUNCT    .        punctuation mark, sentence closer\n",
            "\n",
            "\n",
            "              SPACE    _SP      whitespace\n"
          ]
        }
      ]
    }
  ]
}