{
 "cells": [
  {
   "cell_type": "markdown",
   "metadata": {},
   "source": [
    "List in Python"
   ]
  },
  {
   "cell_type": "code",
   "execution_count": 1,
   "metadata": {},
   "outputs": [
    {
     "name": "stdout",
     "output_type": "stream",
     "text": [
      "<class 'list'>\n"
     ]
    }
   ],
   "source": [
    "# as the tuples are immutable hence we use list to solve our problems\n",
    "\n",
    "a = [1, 2, 3, 4]\n",
    "print(type(a))"
   ]
  },
  {
   "cell_type": "code",
   "execution_count": 4,
   "metadata": {},
   "outputs": [
    {
     "name": "stdout",
     "output_type": "stream",
     "text": [
      "['a', 'b', 'c', 'd', 'e', 'f', 'g', 'h', 'i', 'j']\n",
      "<class 'list'>\n"
     ]
    }
   ],
   "source": [
    "# iterating in the list\n",
    "s = \"a b c d e f g h i j\"\n",
    "a = s.split(\" \")\n",
    "print(a)\n",
    "print(type(a))"
   ]
  },
  {
   "cell_type": "code",
   "execution_count": 15,
   "metadata": {},
   "outputs": [
    {
     "name": "stdout",
     "output_type": "stream",
     "text": [
      "[1, 23, 3, 5]\n",
      "<class 'list'>\n",
      "4\n",
      "['abc', '', '', 'def', '', '1', '4']\n",
      "<class 'list'>\n",
      "7\n"
     ]
    }
   ],
   "source": [
    "s = \"1 23 3 5 \"\n",
    "t = \"   abc   def  1 4 \"\n",
    "# a = [int(x) for x in input().strip().split(\" \")]\n",
    "a = [int(x) for x in s.strip().split(\" \")]\n",
    "b = [x for x in t.strip().split(\" \")]\n",
    "print(a)\n",
    "print(type(a))\n",
    "print(len(a))\n",
    "print(b)\n",
    "print(type(b))\n",
    "print(len(b))"
   ]
  },
  {
   "cell_type": "markdown",
   "metadata": {},
   "source": [
    "Inserting Elements in the list"
   ]
  },
  {
   "cell_type": "code",
   "execution_count": 28,
   "metadata": {},
   "outputs": [
    {
     "name": "stdout",
     "output_type": "stream",
     "text": [
      "[1, 2, 3, 4]\n",
      "[1, 2, 5, 3, 4]\n",
      "[1, 2, 5, 3, 4, [8, 9, 10]]\n",
      "[1, 2, 5, 3, 4, [8, 9, 10], 8, 9, 10]\n"
     ]
    }
   ],
   "source": [
    "l1 = [1,2,3]\n",
    "l1.append(4)\n",
    "print(l1)\n",
    "\n",
    "l1.insert(2, 5) # insert at pos 2 \n",
    "print(l1)\n",
    "\n",
    "l2 = [8, 9, 10]\n",
    "l1.append(l2)\n",
    "print(l1) # ye append kar rha hai list ko \n",
    "\n",
    "l1.extend(l2)\n",
    "print(l1) # ye extend kar rha hai list ko \n"
   ]
  },
  {
   "cell_type": "markdown",
   "metadata": {},
   "source": [
    "Deleting Elements in the list"
   ]
  },
  {
   "cell_type": "markdown",
   "metadata": {},
   "source": [
    "1. POP"
   ]
  },
  {
   "cell_type": "code",
   "execution_count": 30,
   "metadata": {},
   "outputs": [
    {
     "name": "stdout",
     "output_type": "stream",
     "text": [
      "[1, 2, 5, 3, 4, [8, 9, 10]]\n",
      "[1, 2, 5, 3, 4]\n"
     ]
    }
   ],
   "source": [
    "l1.pop()\n",
    "print(l1)\n",
    "\n",
    "l1.pop(5)\n",
    "print(l1)"
   ]
  },
  {
   "cell_type": "markdown",
   "metadata": {},
   "source": [
    "2. Remove"
   ]
  },
  {
   "cell_type": "code",
   "execution_count": 33,
   "metadata": {},
   "outputs": [
    {
     "name": "stdout",
     "output_type": "stream",
     "text": [
      "[1, 5, 3, 2, 4, 2]\n"
     ]
    }
   ],
   "source": [
    "l1.insert(3, 2)\n",
    "l1.append(2)\n",
    "\n",
    "# It removes the first apperaence of 2 from the list\n",
    "l1.remove(2)\n",
    "print(l1)\n"
   ]
  },
  {
   "cell_type": "markdown",
   "metadata": {},
   "source": [
    "3. Delete"
   ]
  },
  {
   "cell_type": "code",
   "execution_count": 34,
   "metadata": {},
   "outputs": [
    {
     "name": "stdout",
     "output_type": "stream",
     "text": [
      "[1, 5, 2, 4, 2]\n"
     ]
    }
   ],
   "source": [
    "# If i wanna delete the index \n",
    "\n",
    "del l1[2]\n",
    "print(l1)\n",
    "# second index got deleted (3)\n"
   ]
  },
  {
   "cell_type": "code",
   "execution_count": 35,
   "metadata": {},
   "outputs": [
    {
     "name": "stdout",
     "output_type": "stream",
     "text": [
      "[1, 6, 7, 8, 9, 10, 11]\n"
     ]
    }
   ],
   "source": [
    "l3 = [1,2,3,4,5,6,7,8,9,10,11]\n",
    "\n",
    "# I can delete the range too\n",
    "del l3[1:5]\n",
    "print(l3)"
   ]
  },
  {
   "cell_type": "code",
   "execution_count": 40,
   "metadata": {},
   "outputs": [
    {
     "name": "stdout",
     "output_type": "stream",
     "text": [
      "[1, 2, 4, 5]\n",
      "3\n",
      "[4, 1, 2, 4, 1, 9, 7, 5, 3, 1]\n",
      "found\n"
     ]
    }
   ],
   "source": [
    "# sorting the list\n",
    "\n",
    "x = [1,4,2,5]\n",
    "x.sort()\n",
    "print(x)\n",
    "\n",
    "\n",
    "# for evalulation of the count of the elemnent from the list\n",
    "x = [1, 3, 5, 7, 9, 1, 4, 2, 1, 4]\n",
    "print(x.count(1))\n",
    "\n",
    "x.reverse()\n",
    "print(x)\n",
    "\n",
    "# if the element is in the list or not\n",
    "if 7 in x:\n",
    "    print(\"found\")"
   ]
  }
 ],
 "metadata": {
  "kernelspec": {
   "display_name": "Python 3.10.5 64-bit",
   "language": "python",
   "name": "python3"
  },
  "language_info": {
   "codemirror_mode": {
    "name": "ipython",
    "version": 3
   },
   "file_extension": ".py",
   "mimetype": "text/x-python",
   "name": "python",
   "nbconvert_exporter": "python",
   "pygments_lexer": "ipython3",
   "version": "3.10.5"
  },
  "orig_nbformat": 4,
  "vscode": {
   "interpreter": {
    "hash": "5666a3d1bc91ffbff1466abe7bdd0fa91f5e0a396fdd17d39b1c2038c08c1d53"
   }
  }
 },
 "nbformat": 4,
 "nbformat_minor": 2
}
