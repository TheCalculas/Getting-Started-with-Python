{
 "cells": [
  {
   "cell_type": "markdown",
   "metadata": {},
   "source": [
    "## This is the intro to jupyter notebook "
   ]
  },
  {
   "cell_type": "code",
   "execution_count": 2,
   "metadata": {},
   "outputs": [
    {
     "name": "stdout",
     "output_type": "stream",
     "text": [
      "10 10\n",
      "20\n"
     ]
    }
   ],
   "source": [
    "#print function working\n",
    "a = 10\n",
    "print(a, end=\" \") # printing in the same line\n",
    "print(a)\n",
    "print(20) # default prints in diffrent lines "
   ]
  }
 ],
 "metadata": {
  "kernelspec": {
   "display_name": "Python 3.10.5 64-bit",
   "language": "python",
   "name": "python3"
  },
  "language_info": {
   "codemirror_mode": {
    "name": "ipython",
    "version": 3
   },
   "file_extension": ".py",
   "mimetype": "text/x-python",
   "name": "python",
   "nbconvert_exporter": "python",
   "pygments_lexer": "ipython3",
   "version": "3.10.5"
  },
  "orig_nbformat": 4,
  "vscode": {
   "interpreter": {
    "hash": "5666a3d1bc91ffbff1466abe7bdd0fa91f5e0a396fdd17d39b1c2038c08c1d53"
   }
  }
 },
 "nbformat": 4,
 "nbformat_minor": 2
}
