{
 "cells": [
  {
   "cell_type": "markdown",
   "metadata": {},
   "source": [
    "## This is the intro to jupyter notebook "
   ]
  },
  {
   "cell_type": "code",
   "execution_count": 2,
   "metadata": {},
   "outputs": [
    {
     "name": "stdout",
     "output_type": "stream",
     "text": [
      "10 10\n",
      "20\n"
     ]
    }
   ],
   "source": [
    "#print function working\n",
    "a = 10\n",
    "print(a, end=\" \") # printing in the same line\n",
    "print(a)\n",
    "print(20) # default prints in diffrent lines "
   ]
  },
  {
   "cell_type": "code",
   "execution_count": 3,
   "metadata": {},
   "outputs": [
    {
     "data": {
      "text/plain": [
       "10"
      ]
     },
     "execution_count": 3,
     "metadata": {},
     "output_type": "execute_result"
    }
   ],
   "source": [
    "#printing variables\n",
    "a = 10\n",
    "a"
   ]
  },
  {
   "cell_type": "code",
   "execution_count": 4,
   "metadata": {},
   "outputs": [
    {
     "data": {
      "text/plain": [
       "10"
      ]
     },
     "execution_count": 4,
     "metadata": {},
     "output_type": "execute_result"
    }
   ],
   "source": [
    "# if you are printing 2 variables make sure to use print as writing the var will result printing the last variable\n",
    "b = 10\n",
    "a = 20\n",
    "a\n",
    "b   # last line is the output"
   ]
  },
  {
   "cell_type": "code",
   "execution_count": 7,
   "metadata": {},
   "outputs": [
    {
     "name": "stdout",
     "output_type": "stream",
     "text": [
      "<class 'int'>\n",
      "<class 'float'>\n",
      "<class 'complex'>\n"
     ]
    }
   ],
   "source": [
    "# variables and it's types\n",
    "a = 10\n",
    "print(type(a))\n",
    "a = 10.3\n",
    "print(type(a))\n",
    "a = 1 + 2j\n",
    "print(type(a))\n",
    "# hence you can store the complex numbers too in the variables"
   ]
  },
  {
   "cell_type": "markdown",
   "metadata": {},
   "source": [
    "## NOTE: it is the order of the execution not the order of the cells in jupyter notebook"
   ]
  },
  {
   "cell_type": "code",
   "execution_count": 13,
   "metadata": {},
   "outputs": [
    {
     "name": "stdout",
     "output_type": "stream",
     "text": [
      "30\n",
      "-10\n",
      "30\n",
      "200\n",
      "0.5\n",
      "0\n",
      "100000000000000000000\n",
      "10\n"
     ]
    }
   ],
   "source": [
    "# Operators \n",
    "\n",
    "a = 10\n",
    "b = 20\n",
    "c = a+b\n",
    "print(c)\n",
    "c = a-b\n",
    "print(c)\n",
    "c = a+b\n",
    "print(c)\n",
    "c = a*b\n",
    "print(c)\n",
    "c = a/b # int / int gives here float and to make that int we use // instead of /\n",
    "print(c)\n",
    "c = a//b\n",
    "print(c)\n",
    "c = a**b    # this is used for exponentiation\n",
    "print(c)\n",
    "c = a%b\n",
    "print(c)"
   ]
  },
  {
   "cell_type": "code",
   "execution_count": 14,
   "metadata": {},
   "outputs": [],
   "source": [
    "# assignment of variables\n",
    "a, b = 1, 2\n",
    "# or you can use \n",
    "a, b = 2, 4.4 "
   ]
  }
 ],
 "metadata": {
  "kernelspec": {
   "display_name": "Python 3.10.5 64-bit",
   "language": "python",
   "name": "python3"
  },
  "language_info": {
   "codemirror_mode": {
    "name": "ipython",
    "version": 3
   },
   "file_extension": ".py",
   "mimetype": "text/x-python",
   "name": "python",
   "nbconvert_exporter": "python",
   "pygments_lexer": "ipython3",
   "version": "3.10.5"
  },
  "orig_nbformat": 4,
  "vscode": {
   "interpreter": {
    "hash": "5666a3d1bc91ffbff1466abe7bdd0fa91f5e0a396fdd17d39b1c2038c08c1d53"
   }
  }
 },
 "nbformat": 4,
 "nbformat_minor": 2
}
